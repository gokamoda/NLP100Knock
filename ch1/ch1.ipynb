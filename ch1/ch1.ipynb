{
 "cells": [
  {
   "attachments": {},
   "cell_type": "markdown",
   "metadata": {},
   "source": [
    "# 第1章: 準備運動\n",
    "\n",
    "## On this page\n",
    "00. 文字列の逆順\n",
    "01. 「パタトクカシーー」\n",
    "02. 「パトカー」＋「タクシー」＝「パタトクカシーー」\n",
    "03. 円周率\n",
    "04. 元素記号\n",
    "05. n-gram\n",
    "06. 集合\n",
    "07. テンプレートによる文生成\n",
    "08. 暗号文\n",
    "09. Typoglycemia\n",
    "\n",
    "---"
   ]
  },
  {
   "attachments": {},
   "cell_type": "markdown",
   "metadata": {},
   "source": [
    "## 00.文字列の逆順\n",
    "文字列”stressed”の文字を逆に（末尾から先頭に向かって）並べた文字列を得よ"
   ]
  },
  {
   "cell_type": "code",
   "execution_count": 2,
   "metadata": {},
   "outputs": [
    {
     "name": "stdout",
     "output_type": "stream",
     "text": [
      "desserts\n"
     ]
    }
   ],
   "source": [
    "string = 'stressed'\n",
    "gnirts = string[::-1]\n",
    "print(gnirts)\n"
   ]
  },
  {
   "attachments": {},
   "cell_type": "markdown",
   "metadata": {},
   "source": [
    "### `メモ`\n",
    "- listの逆順の場合はreverseやreversedが使える\n",
    "- sliceの[a:b:c]は、a番目からb番目の直前までをc文字ずつ取得、の意（ただし0始まり）\n",
    "  - 文字列やリストなどで使える"
   ]
  },
  {
   "cell_type": "code",
   "execution_count": 3,
   "metadata": {},
   "outputs": [
    {
     "name": "stdout",
     "output_type": "stream",
     "text": [
      "string[0:8:1]\t= stressed\n",
      "string[0:8:2]\t= srse\n",
      "string[1:6:2]\t= tes\n",
      "string[3::]\t= essed\n",
      "string[3:]\t= essed\n",
      "string[:6:]\t= stress\n",
      "string[:6]\t= stress\n",
      "string[::2]\t= srse\n",
      "string[1:6:2]\t= tes\n"
     ]
    }
   ],
   "source": [
    "print('string[0:8:1]\\t=', string[0:8:1]) # 0番目から最後まで1文字ごとにみる\n",
    "print('string[0:8:2]\\t=', string[0:8:2]) # 0番目から最後まで2文字ごとにみる\n",
    "print('string[1:6:2]\\t=', string[1:6:2]) # 1番目から6番目直前まで2文字ごとにみる\n",
    "\n",
    "print('string[3::]\\t=',string[3::])# 3番目から最後まで1文字ごとにみる\n",
    "print('string[3:]\\t=', string[3:] )  # 右に:が2つ続く場合は1つ省略可能\n",
    "\n",
    "print('string[:6:]\\t=', string[:6:])# 0番目から6番目直前まで1文字ごとにみる\n",
    "print('string[:6]\\t=', string[:6]) # 左右に:がある場合は右を省略可能\n",
    "\n",
    "print('string[::2]\\t=', string[::2])  # 0番目から最後まで2文字ごとにみる ステップを指定する場合は左の::を省略できない\n",
    "\n",
    "print('string[1:6:2]\\t=', string[1:6:2])  # 1番目から6番目直前まで2文字ごとにみるa,b,cどれも省略できない\n",
    "\n"
   ]
  },
  {
   "attachments": {},
   "cell_type": "markdown",
   "metadata": {},
   "source": [
    "---"
   ]
  },
  {
   "attachments": {},
   "cell_type": "markdown",
   "metadata": {},
   "source": [
    "## 01.「パタトクカシーー」\n",
    "「パタトクカシーー」という文字列の1,3,5,7文字目を取り出して連結した文字列を得よ．"
   ]
  },
  {
   "cell_type": "code",
   "execution_count": 4,
   "metadata": {},
   "outputs": [
    {
     "name": "stdout",
     "output_type": "stream",
     "text": [
      "パトカー\n"
     ]
    }
   ],
   "source": [
    "string = 'パタトクカシーー'\n",
    "print(string[::2])"
   ]
  },
  {
   "attachments": {},
   "cell_type": "markdown",
   "metadata": {},
   "source": [
    "---"
   ]
  },
  {
   "attachments": {},
   "cell_type": "markdown",
   "metadata": {},
   "source": [
    "## 02. 「パトカー」＋「タクシー」＝「パタトクカシーー」\n",
    "「パトカー」＋「タクシー」の文字を先頭から交互に連結して文字列「パタトクカシーー」を得よ．"
   ]
  },
  {
   "cell_type": "code",
   "execution_count": 5,
   "metadata": {},
   "outputs": [
    {
     "name": "stdout",
     "output_type": "stream",
     "text": [
      "パタトクカシーー\n"
     ]
    }
   ],
   "source": [
    "string1 = 'パトカー'\n",
    "string2 = 'タクシー'\n",
    "result = ''\n",
    "for c1, c2 in zip(string1, string2):\n",
    "    result += c1 + c2\n",
    "print(result)\n"
   ]
  },
  {
   "attachments": {},
   "cell_type": "markdown",
   "metadata": {},
   "source": [
    "### `メモ`\n",
    "- zipは、引数のそれぞれの1番目、2番めを組として呼び出してくれる\n",
    "  - 長さが違うときは短い方に合わせる (`パトカー`と`タクシ`だったら、`パタトクカシ`になる)\n",
    "- Pythonのforループは遅い\n",
    "  - 内包表記で少し早くなる\n",
    "  - 下のコードは、`['パタ', 'トク', 'カシ', 'ーー']`をつなげている"
   ]
  },
  {
   "cell_type": "code",
   "execution_count": 6,
   "metadata": {},
   "outputs": [
    {
     "name": "stdout",
     "output_type": "stream",
     "text": [
      "パタトクカシーー\n"
     ]
    }
   ],
   "source": [
    "result = ''.join([ c1+c2 for c1, c2 in zip(string1, string2) ])\n",
    "print(result)"
   ]
  },
  {
   "attachments": {},
   "cell_type": "markdown",
   "metadata": {},
   "source": [
    "---"
   ]
  },
  {
   "attachments": {},
   "cell_type": "markdown",
   "metadata": {},
   "source": [
    "## 03.円周率\n",
    "“Now I need a drink, alcoholic of course, after the heavy lectures involving quantum mechanics.”という文を単語に分解し，各単語の（アルファベットの）文字数を先頭から出現順に並べたリストを作成せよ．"
   ]
  },
  {
   "cell_type": "code",
   "execution_count": 7,
   "metadata": {},
   "outputs": [
    {
     "name": "stdout",
     "output_type": "stream",
     "text": [
      "[3, 1, 4, 1, 5, 9, 2, 6, 5, 3, 5, 8, 9, 7, 9]\n"
     ]
    }
   ],
   "source": [
    "string = 'Now I need a drink, alcoholic of course, after the heavy lectures involving quantum mechanics.'\n",
    "lens = [len(word.strip(', .')) for word in string.split()]\n",
    "print(lens)"
   ]
  },
  {
   "attachments": {},
   "cell_type": "markdown",
   "metadata": {},
   "source": [
    "### `メモ`\n",
    "- `len()`で配列の長さを取得できる（文字列にも対応している）\n",
    "- `strip()`で両端の不要文字を削除できる\n",
    "  - 複数文字を削除対象とする場合はスペースで区切る\n",
    "- `split()`で文字列を特定文字で区切ってリスト化できる\n",
    "  - 区切り文字はリストに含まれない\n",
    "  - デフォルトはスペース区切りだが、引数で指定できる"
   ]
  },
  {
   "cell_type": "code",
   "execution_count": 8,
   "metadata": {},
   "outputs": [
    {
     "name": "stdout",
     "output_type": "stream",
     "text": [
      "['Now I need a drink', ' alcoholic of course', ' after the heavy lectures involving quantum mechanics.']\n"
     ]
    }
   ],
   "source": [
    "print(string.split(','))"
   ]
  },
  {
   "attachments": {},
   "cell_type": "markdown",
   "metadata": {},
   "source": [
    "---"
   ]
  },
  {
   "attachments": {},
   "cell_type": "markdown",
   "metadata": {},
   "source": [
    "## 04.元素記号\n",
    "“Hi He Lied Because Boron Could Not Oxidize Fluorine. New Nations Might Also Sign Peace Security Clause. Arthur King Can.”という文を単語に分解し，1, 5, 6, 7, 8, 9, 15, 16, 19番目の単語は先頭の1文字，それ以外の単語は先頭の2文字を取り出し，取り出した文字列から単語の位置（先頭から何番目の単語か）への連想配列（辞書型~~もしくはマップ型~~）を作成せよ．"
   ]
  },
  {
   "cell_type": "code",
   "execution_count": 9,
   "metadata": {},
   "outputs": [
    {
     "name": "stdout",
     "output_type": "stream",
     "text": [
      "{'H': 1, 'He': 2, 'Li': 3, 'Be': 4, 'B': 5, 'C': 6, 'N': 7, 'O': 8, 'F': 9, 'Ne': 10, 'Na': 11, 'Mi': 12, 'Al': 13, 'Si': 14, 'P': 15, 'S': 16, 'Cl': 17, 'Ar': 18, 'K': 19, 'Ca': 20}\n"
     ]
    }
   ],
   "source": [
    "string = 'Hi He Lied Because Boron Could Not Oxidize Fluorine. \\\n",
    "    New Nations Might Also Sign Peace Security Clause. Arthur King Can.'\n",
    "one_char_only_1_based_idxs = {1, 5, 6, 7, 8, 9, 15, 16, 19}\n",
    "\n",
    "# 辞書型\n",
    "# key: 単語の先頭の文字\n",
    "# value: 単語の位置\n",
    "result_dict = {}\n",
    "for i, word in enumerate(string.split(), 1):\n",
    "    if i in one_char_only_1_based_idxs:\n",
    "        result_dict[word[0]] = i\n",
    "    else:\n",
    "        result_dict[word[:2]] = i\n",
    "print(result_dict)\n"
   ]
  },
  {
   "attachments": {},
   "cell_type": "markdown",
   "metadata": {},
   "source": [
    "### `メモ`\n",
    "- `one_char_only_1_based_idxs`は`set`型で定義した\n",
    "  - `set`とは集合のことで、以下の特徴がある\n",
    "    - 同じ要素を複数持たない\n",
    "    - 順番を考慮しない\n",
    "  - インデックスが0基準か1基準かわからなくなりそうだったので変数に入れてみた\n",
    "    - 後で見たときに迷わないコードを書く\n",
    "- `for`ループで`enumerate`を使用した\n",
    "  - ループ回数を数えてくれる（count変数を自分で定義する必要がない）\n",
    "  - ループカウントの初期値を設定できる（デフォルトは0）\n",
    "- 内包表記でも書ける↓"
   ]
  },
  {
   "cell_type": "code",
   "execution_count": 10,
   "metadata": {},
   "outputs": [
    {
     "name": "stdout",
     "output_type": "stream",
     "text": [
      "{'H': 1, 'He': 2, 'Li': 3, 'Be': 4, 'B': 5, 'C': 6, 'N': 7, 'O': 8, 'F': 9, 'Ne': 10, 'Na': 11, 'Mi': 12, 'Al': 13, 'Si': 14, 'P': 15, 'S': 16, 'Cl': 17, 'Ar': 18, 'K': 19, 'Ca': 20}\n"
     ]
    }
   ],
   "source": [
    "order_map = {item[0] if i+1 in one_char_only_1_based_idxs else item[:2] :i+1 for i, item in enumerate(string.split())}\n",
    "print(order_map)"
   ]
  },
  {
   "attachments": {},
   "cell_type": "markdown",
   "metadata": {},
   "source": [
    "---"
   ]
  },
  {
   "attachments": {},
   "cell_type": "markdown",
   "metadata": {},
   "source": [
    "## 05.n-gram\n",
    "与えられたシーケンス（文字列やリストなど）からn-gramを作る関数を作成せよ．この関数を用い，”I am an NLPer”という文から単語bi-gram，文字bi-gramを得よ．"
   ]
  },
  {
   "cell_type": "code",
   "execution_count": 11,
   "metadata": {},
   "outputs": [
    {
     "name": "stdout",
     "output_type": "stream",
     "text": [
      "[['I', 'am'], ['am', 'an'], ['an', 'NLPer']]\n",
      "['I ', ' a', 'am', 'm ', ' a', 'an', 'n ', ' N', 'NL', 'LP', 'Pe', 'er']\n"
     ]
    }
   ],
   "source": [
    "def bi_gram_maker(sentence: str, *, mode: str) -> list:\n",
    "    \"\"\"\n",
    "    INPUT\n",
    "    -----\n",
    "    sentence: str (sentence to be converted to bi-gram)\n",
    "    mode: str (word or char)\n",
    "\n",
    "    OUTPUT\n",
    "    ------\n",
    "    mode: word -> list of list of str (bi-gram of words)\n",
    "    mode: char -> list of str (bi-gram of chars)\n",
    "    \"\"\"\n",
    "    assert mode in {'word', 'char'}, 'mode must be \"word\" or \"char\"'\n",
    "    if mode == 'word':\n",
    "        sentence = sentence.split()\n",
    "    return [sentence[i:i+2] for i in range(len(sentence)-1)]\n",
    "\n",
    "string = 'I am an NLPer'\n",
    "\n",
    "word_bi_gram = bi_gram_maker(string, mode='word')\n",
    "print(word_bi_gram)\n",
    "\n",
    "char_bi_gram = bi_gram_maker(string, mode='char')\n",
    "print(char_bi_gram)"
   ]
  },
  {
   "attachments": {},
   "cell_type": "markdown",
   "metadata": {},
   "source": [
    "### `メモ`\n",
    "- `bi_gram_maker`関数を組んだ\n",
    "  - 似たような処理を複数回やる（可能性がある）場合にとても有効\n",
    "  - 型を注釈付け (annotate) しておくと\n",
    "    - コードを振り返ったときに便利\n",
    "    - エディタ上で呼び出すときにヒントが出たりして便利\n",
    "- `assert`は必要事項の確認ができる\n",
    "  - 条件を満たさない場合に、自作エラーメッセージを出させることができる\n",
    "- 引数に`*`を入れると、それ以降の引数がKeyword Argumentになる\n",
    "  - つまり、呼び出すときに`引数名＝引数`の形で指定しなければならなくなる\n",
    "  - 引数の順番はすぐ忘れるので、引数名を毎回書いて欲しいときに有効\n",
    "- 外部ライブラリを使ってもよい\n",
    "  - 大体そのほうが処理は早い"
   ]
  },
  {
   "cell_type": "code",
   "execution_count": 12,
   "metadata": {},
   "outputs": [
    {
     "name": "stdout",
     "output_type": "stream",
     "text": [
      "[('I', 'am'), ('am', 'an'), ('an', 'NLPer')]\n",
      "[('I', ' '), (' ', 'a'), ('a', 'm'), ('m', ' '), (' ', 'a'), ('a', 'n'), ('n', ' '), (' ', 'N'), ('N', 'L'), ('L', 'P'), ('P', 'e'), ('e', 'r')]\n"
     ]
    }
   ],
   "source": [
    "from toolz.itertoolz import sliding_window\n",
    "\n",
    "print(list(sliding_window(2, string.split())))\n",
    "print(list(sliding_window(2, string)))"
   ]
  },
  {
   "attachments": {},
   "cell_type": "markdown",
   "metadata": {},
   "source": [
    "---"
   ]
  },
  {
   "attachments": {},
   "cell_type": "markdown",
   "metadata": {},
   "source": [
    "## 06.集合\n",
    "“paraparaparadise”と”paragraph”に含まれる文字bi-gramの集合を，それぞれ, XとYとして求め，XとYの和集合，積集合，差集合を求めよ．さらに，’se’というbi-gramがXおよびYに含まれるかどうかを調べよ．"
   ]
  },
  {
   "cell_type": "code",
   "execution_count": 15,
   "metadata": {},
   "outputs": [
    {
     "name": "stdout",
     "output_type": "stream",
     "text": [
      "X: {'ap', 'ar', 'ra', 'ad', 'di', 'is', 'se', 'pa'}\n",
      "Y: {'ap', 'ar', 'ag', 'ra', 'ph', 'gr', 'pa'}\n",
      "\n",
      "和集合:\n",
      "{'ap', 'ar', 'ag', 'ra', 'ph', 'gr', 'ad', 'di', 'is', 'se', 'pa'}\n",
      "{'ap', 'ar', 'ag', 'ra', 'ph', 'gr', 'ad', 'di', 'is', 'se', 'pa'}\n",
      "\n",
      "積集合:\n",
      "{'ap', 'ar', 'pa', 'ra'}\n",
      "{'ap', 'ar', 'pa', 'ra'}\n",
      "\n",
      "差集合:\n",
      "{'se', 'ad', 'is', 'di'}\n",
      "{'se', 'ad', 'is', 'di'}\n",
      "\n",
      "\"se\" in X:  True\n",
      "\"se\" in Y:  False\n"
     ]
    }
   ],
   "source": [
    "string_x = 'paraparaparadise'\n",
    "string_y = 'paragraph'\n",
    "\n",
    "X = set(bi_gram_maker(string_x, mode='char'))\n",
    "Y = set(bi_gram_maker(string_y, mode='char'))\n",
    "print('X:', X)\n",
    "print('Y:', Y)\n",
    "\n",
    "print('\\n和集合:')\n",
    "print(X | Y)\n",
    "print(X.union(Y))\n",
    "\n",
    "print('\\n積集合:')\n",
    "print(X & Y)\n",
    "print(X.intersection(Y))\n",
    "\n",
    "print('\\n差集合:')\n",
    "print(X - Y)\n",
    "print(X.difference(Y))\n",
    "\n",
    "print('\\n\"se\" in X: ','se' in X)\n",
    "print('\"se\" in Y: ','se' in Y)\n"
   ]
  },
  {
   "attachments": {},
   "cell_type": "markdown",
   "metadata": {},
   "source": [
    "### `メモ`\n",
    "- 辞書型は探索するときに高速になる\n",
    "\n",
    "---"
   ]
  },
  {
   "attachments": {},
   "cell_type": "markdown",
   "metadata": {},
   "source": [
    "## 07.テンプレートによる文生成\n",
    "引数x, y, zを受け取り「x時のyはz」という文字列を返す関数を実装せよ．さらに，x=12, y=”気温”, z=22.4として，実行結果を確認せよ．"
   ]
  },
  {
   "cell_type": "code",
   "execution_count": 23,
   "metadata": {},
   "outputs": [
    {
     "name": "stdout",
     "output_type": "stream",
     "text": [
      "12時の気温は22.4\n"
     ]
    }
   ],
   "source": [
    "from typing import Union\n",
    "def format_time_field(x: int, y: str, z: Union[int, float, str]) -> str:\n",
    "    '''\n",
    "    INPUT\n",
    "    -----\n",
    "    x: int (hour)\n",
    "    y: str (field name)\n",
    "    z: int/float/str (field value)\n",
    "    '''\n",
    "    # 以下どれでもOK\n",
    "    return f'{x}時の{y}は{z}'\n",
    "    return '{}時の{}は{}'.format(x, y, z)\n",
    "    return '{hour}時の{field}は{value}'.format(hour=x, field=y, value=z)\n",
    "\n",
    "print(format_time_field(12, '気温', 22.4))\n",
    "\n"
   ]
  },
  {
   "attachments": {},
   "cell_type": "markdown",
   "metadata": {},
   "source": [
    "### `メモ`\n",
    "- 型が複数ありえるときは、`typing.Union`が使える\n",
    "\n",
    "---"
   ]
  },
  {
   "attachments": {},
   "cell_type": "markdown",
   "metadata": {},
   "source": [
    "## 08.暗号文\n",
    "与えられた文字列の各文字を，以下の仕様で変換する関数cipherを実装せよ．\n",
    "\n",
    "英小文字ならば(219 - 文字コード)の文字に置換\n",
    "その他の文字はそのまま出力\n",
    "この関数を用い，英語のメッセージを暗号化・復号化せよ．"
   ]
  },
  {
   "cell_type": "code",
   "execution_count": 25,
   "metadata": {},
   "outputs": [
    {
     "name": "stdout",
     "output_type": "stream",
     "text": [
      "I zn zm NLPvi\n",
      "I am an NLPer\n"
     ]
    }
   ],
   "source": [
    "def cipher(string: str) -> str:\n",
    "    ciphered_string = ''\n",
    "    for c in string:\n",
    "        if c.islower():\n",
    "            ciphered_string += chr(219 - ord(c))\n",
    "        else:   \n",
    "            ciphered_string += c\n",
    "    return ciphered_string\n",
    "\n",
    "string = 'I am an NLPer'\n",
    "print(cipher(string))\n",
    "print(cipher(cipher(string))) # 2回やると戻る\n"
   ]
  },
  {
   "attachments": {},
   "cell_type": "markdown",
   "metadata": {},
   "source": [
    "---"
   ]
  },
  {
   "attachments": {},
   "cell_type": "markdown",
   "metadata": {},
   "source": [
    "## 09.Typoglycemia\n",
    "スペースで区切られた単語列に対して，各単語の先頭と末尾の文字は残し，それ以外の文字の順序をランダムに並び替えるプログラムを作成せよ．ただし，長さが４以下の単語は並び替えないこととする．適当な英語の文（例えば”I couldn’t believe that I could actually understand what I was reading : the phenomenal power of the human mind .”）を与え，その実行結果を確認せよ．"
   ]
  },
  {
   "cell_type": "code",
   "execution_count": 39,
   "metadata": {},
   "outputs": [
    {
     "name": "stdout",
     "output_type": "stream",
     "text": [
      "I cd’oulnt bieleve that I cuold alutacly utrsnedand what I was rniadeg : the phaeonneml power of the huamn mind .\n"
     ]
    }
   ],
   "source": [
    "import random\n",
    "random.seed(0)\n",
    "def typoglycemia(string: str):\n",
    "    scrambled_words = []\n",
    "    for word in string.split():\n",
    "        if len(word) > 4:\n",
    "            word = word[0] + ''.join(random.sample(word[1:-1], len(word)-2)) + word[-1]\n",
    "        scrambled_words.append(word)\n",
    "    return ' '.join(scrambled_words)\n",
    "\n",
    "string = 'I couldn’t believe that I could actually understand what I was reading : the phenomenal power of the human mind .'\n",
    "print(typoglycemia(string))"
   ]
  },
  {
   "attachments": {},
   "cell_type": "markdown",
   "metadata": {},
   "source": [
    "### `メモ`\n",
    "- 内包表記で1-liner"
   ]
  },
  {
   "cell_type": "code",
   "execution_count": 41,
   "metadata": {},
   "outputs": [
    {
     "name": "stdout",
     "output_type": "stream",
     "text": [
      "I cd’oulnt bieleve that I cuold alutacly utrsnedand what I was rniadeg : the phaeonneml power of the huamn mind .\n"
     ]
    }
   ],
   "source": [
    "random.seed(0)\n",
    "print(' '.join([word[0] + ''.join(random.sample(word[1:-1], len(word)-2)) + word[-1] if len(word) > 4 else word for word in string.split()]))"
   ]
  },
  {
   "attachments": {},
   "cell_type": "markdown",
   "metadata": {},
   "source": [
    "- `random.seed(0)`などとするとランダムにも再現性をもたせることができる\n",
    "- リストは参照渡し\n"
   ]
  },
  {
   "cell_type": "code",
   "execution_count": 30,
   "metadata": {},
   "outputs": [
    {
     "name": "stdout",
     "output_type": "stream",
     "text": [
      "[3, 4, 2, 1, 5]\n",
      "[3, 4, 2, 1, 5]\n"
     ]
    }
   ],
   "source": [
    "list_a = [1, 2, 3, 4, 5]\n",
    "list_b = list_a\n",
    "random.shuffle(list_b)\n",
    "print(list_a)\n",
    "print(list_b)"
   ]
  },
  {
   "cell_type": "code",
   "execution_count": 29,
   "metadata": {},
   "outputs": [
    {
     "name": "stdout",
     "output_type": "stream",
     "text": [
      "[1, 2, 3, 4, 5]\n",
      "[4, 1, 5, 2, 3]\n"
     ]
    }
   ],
   "source": [
    "list_a = [1, 2, 3, 4, 5]\n",
    "list_b = list_a.copy()\n",
    "random.shuffle(list_b)\n",
    "print(list_a)\n",
    "print(list_b)"
   ]
  },
  {
   "attachments": {},
   "cell_type": "markdown",
   "metadata": {},
   "source": [
    "---"
   ]
  }
 ],
 "metadata": {
  "kernelspec": {
   "display_name": ".venv",
   "language": "python",
   "name": "python3"
  },
  "language_info": {
   "codemirror_mode": {
    "name": "ipython",
    "version": 3
   },
   "file_extension": ".py",
   "mimetype": "text/x-python",
   "name": "python",
   "nbconvert_exporter": "python",
   "pygments_lexer": "ipython3",
   "version": "3.9.15"
  },
  "orig_nbformat": 4
 },
 "nbformat": 4,
 "nbformat_minor": 2
}
