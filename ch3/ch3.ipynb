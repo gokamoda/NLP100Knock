{
 "cells": [
  {
   "attachments": {},
   "cell_type": "markdown",
   "metadata": {},
   "source": [
    "# 第3章: 正規表現\n",
    "\n",
    "### On this page  \n",
    "20. JSONデータの読み込み  \n",
    "21. カテゴリ名を含む行を抽出  \n",
    "22. カテゴリ名の抽出  \n",
    "23. セクション構造   \n",
    "24. ファイル参照の抽出  \n",
    "25. テンプレートの抽出  \n",
    "26. 強調マークアップの除去  \n",
    "27. 内部リンクの除去  \n",
    "28. MediaWikiマークアップの除去  \n",
    "29. 国旗画像のURLを取得する  \n",
    "\n",
    "### Intro\n",
    "Wikipediaの記事を以下のフォーマットで書き出したファイルjawiki-country.json.gzがある．  \n",
    "\n",
    "1行に1記事の情報がJSON形式で格納される  \n",
    "各行には記事名が”title”キーに，記事本文が”text”キーの辞書オブジェクトに格納され，そのオブジェクトがJSON形式で書き出される  \n",
    "ファイル全体はgzipで圧縮される  \n",
    "以下の処理を行うプログラムを作成せよ  \n",
    "\n",
    "### Reference\n",
    "https://ja.wikipedia.org/wiki/Help:%E6%97%A9%E8%A6%8B%E8%A1%A8"
   ]
  },
  {
   "attachments": {},
   "cell_type": "markdown",
   "metadata": {},
   "source": [
    "## 前準備(データの準備)"
   ]
  },
  {
   "cell_type": "code",
   "execution_count": 3,
   "metadata": {},
   "outputs": [
    {
     "name": "stdout",
     "output_type": "stream",
     "text": [
      "--2023-04-10 09:38:55--  https://nlp100.github.io/data/jawiki-country.json.gz\n",
      "Resolving nlp100.github.io (nlp100.github.io)... 185.199.108.153, 185.199.109.153, 185.199.111.153, ...\n",
      "Connecting to nlp100.github.io (nlp100.github.io)|185.199.108.153|:443... connected.\n",
      "HTTP request sent, awaiting response... 200 OK\n",
      "Length: 5068362 (4.8M) [application/gzip]\n",
      "Saving to: ‘data/jawiki-country.json.gz’\n",
      "\n",
      "jawiki-country.json 100%[===================>]   4.83M  10.5MB/s    in 0.5s    \n",
      "\n",
      "2023-04-10 09:38:57 (10.5 MB/s) - ‘data/jawiki-country.json.gz’ saved [5068362/5068362]\n",
      "\n"
     ]
    }
   ],
   "source": [
    "!wget \"https://nlp100.github.io/data/jawiki-country.json.gz\" -P data/\n",
    "\n",
    "# -P : ディレクトリ指定\n",
    "# 今回は\"data/\"の中にgzがダウンロードされる"
   ]
  },
  {
   "cell_type": "code",
   "execution_count": 4,
   "metadata": {},
   "outputs": [],
   "source": [
    "!gunzip data/jawiki-country.json.gz\n",
    "# gzファイルの解凍"
   ]
  },
  {
   "cell_type": "code",
   "execution_count": 15,
   "metadata": {},
   "outputs": [
    {
     "name": "stdout",
     "output_type": "stream",
     "text": [
      "{\"title\": \"エジプト\", \"text\": \"{{otheruses|主に現代のエジプト・アラブ共和国|古代|古代エジプト}}\\n{{基礎情報 国\\n|略名 =エジプト\\n|漢字書き=埃及\\n|日本語\n"
     ]
    }
   ],
   "source": [
    "!head -n1 data/jawiki-country.json | cut -c-200\n",
    "# ファイルの1行目だけ確認\n",
    "# cut -c-200 : 200文字まで表示"
   ]
  },
  {
   "attachments": {},
   "cell_type": "markdown",
   "metadata": {},
   "source": [
    "## 20.JSONデータの読み込み\n",
    "Wikipedia記事のJSONファイルを読み込み，「イギリス」に関する記事本文を表示せよ．問題21-29では，ここで抽出した記事本文に対して実行せよ．"
   ]
  },
  {
   "cell_type": "code",
   "execution_count": 7,
   "metadata": {},
   "outputs": [],
   "source": [
    "import json\n",
    "\n",
    "with open('data/jawiki-country.json', 'r') as fi, open('data/jawiki-country-uk.txt', 'w') as fo:\n",
    "    for line in fi:\n",
    "        doc = json.loads(line)\n",
    "        if doc[\"title\"]==\"イギリス\":\n",
    "            fo.write(doc[\"text\"])\n",
    "\n",
    "    \n",
    "# json.load():JSONデータto辞書型・リスト\n",
    "# json.loads():JSON形式の文字列to辞書型 (jsonl を読むならこっち)"
   ]
  },
  {
   "cell_type": "code",
   "execution_count": 10,
   "metadata": {},
   "outputs": [
    {
     "name": "stdout",
     "output_type": "stream",
     "text": [
      "{{redirect|UK}}\n",
      "{{redirect|英国|春秋時代の諸侯国|英 (春秋)}}\n",
      "{{Otheruses|ヨーロッパの国|長崎県・熊本県の郷土料理|いぎりす}}\n",
      "{{基礎情報 国\n",
      "|略名  =イギリス\n",
      "|日本語国名 = グレートブリテン及び北アイルランド連合王国\n",
      "|公式国名 = {{lang|en|United Kingdom of Great Britain and Northern Ireland}}<ref>英語以外での正式国名:<br />\n",
      "*{{lang|gd|An Rìoghachd Aonaichte na Breatainn Mhòr agus Eirinn mu Thuath}}（[[スコットランド・ゲール語]]）\n",
      "*{{lang|cy|Teyrnas Gyfunol Prydain Fawr a Gogledd Iwerddon}}（[[ウェールズ語]]）\n",
      "*{{lang|ga|Ríocht Aontaithe na Breataine Móire agus Tuaisceart na hÉireann}}（[[アイルランド語]]）\n",
      "------------\n",
      "{{デフォルトソート:いきりす}}\n",
      "[[Category:イギリス|*]]\n",
      "[[Category:イギリス連邦加盟国]]\n",
      "[[Category:英連邦王国|*]]\n",
      "[[Category:G8加盟国]]\n",
      "[[Category:欧州連合加盟国|元]]\n",
      "[[Category:海洋国家]]\n",
      "[[Category:現存する君主国]]\n",
      "[[Category:島国]]\n",
      "[[Category:1801年に成立した国家・領域]]"
     ]
    }
   ],
   "source": [
    "!head data/jawiki-country-uk.txt\n",
    "print(\"------------\")\n",
    "!tail data/jawiki-country-uk.txt"
   ]
  },
  {
   "attachments": {},
   "cell_type": "markdown",
   "metadata": {},
   "source": [
    "## 21.カテゴリ名を含む行を抽出\n",
    "記事中でカテゴリ名を宣言している行を抽出せよ．"
   ]
  },
  {
   "attachments": {},
   "cell_type": "markdown",
   "metadata": {},
   "source": [
    "[[Category:ヘルプ|はやみひよう]]\n",
    "の形式で書かれるらしい"
   ]
  },
  {
   "cell_type": "code",
   "execution_count": 1,
   "metadata": {},
   "outputs": [],
   "source": [
    "import re\n",
    "\n",
    "def txt_clean_line_generator(*, file_path):\n",
    "    with open(file_path, 'r') as fi:\n",
    "        for line in fi:\n",
    "            line = line.rstrip()\n",
    "            if line:\n",
    "                yield line\n",
    "\n",
    "def search_line_by_pattern(*, pattern, file_path):\n",
    "    for line in txt_clean_line_generator(file_path=file_path):\n",
    "        if pattern.match(line):\n",
    "            yield line"
   ]
  },
  {
   "attachments": {
    "image.png": {
     "image/png": "[encoded data removed]"
    }
   },
   "cell_type": "markdown",
   "metadata": {},
   "source": [
    "### パターン1\n",
    "\n",
    "![image.png](attachment:image.png)"
   ]
  },
  {
   "cell_type": "code",
   "execution_count": 2,
   "metadata": {},
   "outputs": [
    {
     "name": "stdout",
     "output_type": "stream",
     "text": [
      "[[Category:イギリス|*]]\n",
      "[[Category:英連邦王国|*]]\n",
      "[[Category:欧州連合加盟国|元]]\n"
     ]
    }
   ],
   "source": [
    "pattern = re.compile(r'^\\[\\[Category:.*\\|.*\\]\\]$')\n",
    "print(*search_line_by_pattern(pattern=pattern, file_path='data/jawiki-country-uk.txt'), sep='\\n')"
   ]
  },
  {
   "attachments": {
    "image.png": {
     "image/png": "[encoded data removed]"
    }
   },
   "cell_type": "markdown",
   "metadata": {},
   "source": [
    "### パターン2\n",
    "![image.png](attachment:image.png)"
   ]
  },
  {
   "cell_type": "code",
   "execution_count": 3,
   "metadata": {},
   "outputs": [
    {
     "name": "stdout",
     "output_type": "stream",
     "text": [
      "[[Category:イギリス|*]]\n",
      "[[Category:イギリス連邦加盟国]]\n",
      "[[Category:英連邦王国|*]]\n",
      "[[Category:G8加盟国]]\n",
      "[[Category:欧州連合加盟国|元]]\n",
      "[[Category:海洋国家]]\n",
      "[[Category:現存する君主国]]\n",
      "[[Category:島国]]\n",
      "[[Category:1801年に成立した国家・領域]]\n"
     ]
    }
   ],
   "source": [
    "pattern = re.compile(r'^\\[\\[Category:.*\\]\\]$')\n",
    "print(*search_line_by_pattern(pattern=pattern, file_path='data/jawiki-country-uk.txt'), sep='\\n')"
   ]
  },
  {
   "attachments": {},
   "cell_type": "markdown",
   "metadata": {},
   "source": [
    "---"
   ]
  },
  {
   "attachments": {},
   "cell_type": "markdown",
   "metadata": {},
   "source": [
    "\n",
    "### メモ\n",
    "- 正規表現を使うときは`r'正規表現'`と書くべき\n",
    "  - https://docs.python.org/ja/3.8/library/re.html\n",
    "  - エラーになることがある（なお，どういうときにエラーになるかはいまいち理解していない）\n",
    "- パターンは先にコンパイルすると早い\n",
    "- 今回はgeneratorを使用してみた\n",
    "  - 一個ずつ返してくれる（メモリ使用量が減る）\n",
    "  - printするときは`*`でアンパック的なことができるらしい\n",
    "- 正規表現チェッカーを使う\n",
    "  - https://www.debuggex.com/ オートマトンで表現してくれる (個人的にはこれが好き)\n",
    "  - https://regex101.com/ これは先輩からおすすめされたもう一個のやつ\n",
    "- 引数に`*`を入れると，それ以降はKeyword Argumentになる\n",
    "  - つまり，関数呼び出しのときに引数名の指定が必須になる\n",
    "  - 昔書いたコードの引数の順番なんて覚えてない場合が多いので，keyword argumentにすることで順番を間違えるリスクを無くす"
   ]
  },
  {
   "attachments": {},
   "cell_type": "markdown",
   "metadata": {},
   "source": [
    "---"
   ]
  },
  {
   "attachments": {
    "image.png": {
     "image/png": "[encoded data removed]"
    }
   },
   "cell_type": "markdown",
   "metadata": {},
   "source": [
    "## 22.カテゴリ名の抽出\n",
    "記事のカテゴリ名を（行単位ではなく名前で）抽出せよ．\n",
    "\n",
    "![image.png](attachment:image.png)"
   ]
  },
  {
   "cell_type": "code",
   "execution_count": 4,
   "metadata": {},
   "outputs": [
    {
     "name": "stdout",
     "output_type": "stream",
     "text": [
      "イギリス\n",
      "イギリス連邦加盟国\n",
      "英連邦王国\n",
      "G8加盟国\n",
      "欧州連合加盟国\n",
      "海洋国家\n",
      "現存する君主国\n",
      "島国\n",
      "1801年に成立した国家・領域\n"
     ]
    }
   ],
   "source": [
    "pattern_category = re.compile(r'^\\[\\[Category:(.*?)(?:\\|.*)?\\]\\]$')\n",
    "for line in txt_clean_line_generator(file_path='data/jawiki-country-uk.txt'):\n",
    "    match = pattern_category.match(line)\n",
    "    if match:\n",
    "        print(match.group(1))"
   ]
  },
  {
   "attachments": {},
   "cell_type": "markdown",
   "metadata": {},
   "source": [
    "---"
   ]
  },
  {
   "attachments": {},
   "cell_type": "markdown",
   "metadata": {},
   "source": [
    "\n",
    "### メモ\n",
    "- `*?`は最短マッチ（貧困マッチ）\n",
    "  - これをしないと`|`以降もグループに入ってしまうことがある\n",
    "- (?: )はキャプチャなしのグルーピング\n",
    "- matchの返り値はこんな感じ↓ "
   ]
  },
  {
   "cell_type": "code",
   "execution_count": 5,
   "metadata": {},
   "outputs": [
    {
     "name": "stdout",
     "output_type": "stream",
     "text": [
      "<re.Match object; span=(0, 19), match='[[Category:イギリス|*]]'>\n",
      "<re.Match object; span=(0, 22), match='[[Category:イギリス連邦加盟国]]'>\n",
      "<re.Match object; span=(0, 20), match='[[Category:英連邦王国|*]]'>\n",
      "<re.Match object; span=(0, 18), match='[[Category:G8加盟国]]'>\n",
      "<re.Match object; span=(0, 22), match='[[Category:欧州連合加盟国|元]]'>\n",
      "<re.Match object; span=(0, 17), match='[[Category:海洋国家]]'>\n",
      "<re.Match object; span=(0, 20), match='[[Category:現存する君主国]]'>\n",
      "<re.Match object; span=(0, 15), match='[[Category:島国]]'>\n",
      "<re.Match object; span=(0, 28), match='[[Category:1801年に成立した国家・領域]]'>\n"
     ]
    }
   ],
   "source": [
    "for line in txt_clean_line_generator(file_path='data/jawiki-country-uk.txt'):\n",
    "    match = pattern_category.match(line)\n",
    "    if match:\n",
    "        print(match)"
   ]
  },
  {
   "attachments": {},
   "cell_type": "markdown",
   "metadata": {},
   "source": [
    "---"
   ]
  },
  {
   "attachments": {
    "image.png": {
     "image/png": "[encoded data removed]"
    }
   },
   "cell_type": "markdown",
   "metadata": {},
   "source": [
    "## 23.セクション構造\n",
    "記事中に含まれるセクション名とそのレベル（例えば”== セクション名 ==”なら1）を表示せよ．  \n",
    "\n",
    "![image.png](attachment:image.png)"
   ]
  },
  {
   "cell_type": "code",
   "execution_count": 6,
   "metadata": {},
   "outputs": [],
   "source": [
    "pattern_section = re.compile(r'(\\=\\=+)(.*?)\\0$')\n",
    "for line in txt_clean_line_generator(file_path='data/jawiki-country-uk.txt'):\n",
    "    match = pattern_section.match(line)\n",
    "    if match:\n",
    "        section_name = match.group(2).strip()\n",
    "        level = len(match.group(1))-1\n",
    "        print(level, section_name)"
   ]
  },
  {
   "attachments": {},
   "cell_type": "markdown",
   "metadata": {},
   "source": [
    "---\n",
    "### メモ\n",
    "- `\\1`は最初のグループと一緒，という処理．\n",
    "- `==カテゴリ==`だったり`== カテゴリ ==`だったりするので，`strip()`をかけている\n",
    "---"
   ]
  },
  {
   "attachments": {},
   "cell_type": "markdown",
   "metadata": {},
   "source": [
    "## 24.ファイル参照の抽出\n",
    "記事から参照されているメディアファイルをすべて抜き出せ．  \n",
    "`[[ファイル:Wikipedia-logo-v2-ja.png|thumb|説明文]]`  \n",
    "cmd Fすると，28件引っかかるはず．  \n",
    "※一行に複数のファイルがある可能性がある"
   ]
  },
  {
   "attachments": {
    "image-2.png": {
     "image/png": "[encoded data removed]"
    }
   },
   "cell_type": "markdown",
   "metadata": {},
   "source": [
    "### とりあえずファイル名だけわかればいいバージョン\n",
    "![image.png](attachment:image-2.png)  \n",
    "崩れるので英語でfileとしているが，ファイルが正しい"
   ]
  },
  {
   "cell_type": "code",
   "execution_count": 7,
   "metadata": {},
   "outputs": [
    {
     "name": "stdout",
     "output_type": "stream",
     "text": [
      "Royal Coat of Arms of the United Kingdom.svg\n",
      "United States Navy Band - God Save the Queen.ogg\n",
      "Descriptio Prime Tabulae Europae.jpg\n",
      "Lenepveu, Jeanne d'Arc au siège d'Orléans.jpg\n",
      "London.bankofengland.arp.jpg\n",
      "Battle of Waterloo 1815.PNG\n",
      "Uk topo en.jpg\n",
      "BenNevis2005.jpg\n",
      "Population density UK 2011 census.png\n",
      "2019 Greenwich Peninsula & Canary Wharf.jpg\n",
      "Birmingham Skyline from Edgbaston Cricket Ground crop.jpg\n",
      "Leeds CBD at night.jpg\n",
      "Glasgow and the Clyde from the air (geograph 4665720).jpg\n",
      "Palace of Westminster, London - Feb 2007.jpg\n",
      "Scotland Parliament Holyrood.jpg\n",
      "Donald Trump and Theresa May (33998675310) (cropped).jpg\n",
      "Soldiers Trooping the Colour, 16th June 2007.jpg\n",
      "City of London skyline from London City Hall - Oct 2008.jpg\n",
      "Oil platform in the North SeaPros.jpg\n",
      "Eurostar at St Pancras Jan 2008.jpg\n",
      "Heathrow Terminal 5C Iwelumo-1.jpg\n",
      "Airbus A380-841 G-XLEB British Airways (10424102995).jpg\n",
      "UKpop.svg\n",
      "Anglospeak.svg\n",
      "Royal Aberdeen Children's Hospital.jpg\n",
      "CHANDOS3.jpg\n",
      "The Fabs.JPG\n",
      "Wembley Stadium, illuminated.jpg\n",
      "28\n"
     ]
    }
   ],
   "source": [
    "import re\n",
    "cnt = 0\n",
    "pattern_media = re.compile(r'\\[\\[ファイル:(.+?)[|\\]]')\n",
    "with open('data/jawiki-country-uk.txt', 'r') as f:\n",
    "    for line in f:\n",
    "        for match in pattern_media.finditer(line):\n",
    "            print(match.group(1))\n",
    "            cnt += 1\n",
    "print(cnt)"
   ]
  },
  {
   "attachments": {},
   "cell_type": "markdown",
   "metadata": {},
   "source": [
    "---\n",
    "### メモ\n",
    "- 一行の中で複数ヒット対象があり，すべてをとってきたいときは`pattern.findall()`or`pattern.finditer()`を使う\n",
    "  - 違いはリストで返ってくるかイテレータで返ってくるか\n",
    "---"
   ]
  },
  {
   "attachments": {
    "image.png": {
     "image/png": "[encoded data removed]"
    }
   },
   "cell_type": "markdown",
   "metadata": {},
   "source": [
    "### 付加情報も合わせてガチでとってくるなら\n",
    "![image.png](attachment:image.png)  \n",
    "これでもまだ不十分なところはあるかもしれない\n"
   ]
  },
  {
   "cell_type": "code",
   "execution_count": 8,
   "metadata": {},
   "outputs": [
    {
     "name": "stdout",
     "output_type": "stream",
     "text": [
      "==== example ====\n",
      "[[ファイル:Royal Coat of Arms of the United Kingdom.svg|85px|イギリスの国章]]\n",
      "==== example ====\n",
      "Royal Coat of Arms of the United Kingdom.svg\n",
      "United States Navy Band - God Save the Queen.ogg\n",
      "Descriptio Prime Tabulae Europae.jpg\n",
      "Lenepveu, Jeanne d'Arc au siège d'Orléans.jpg\n",
      "London.bankofengland.arp.jpg\n",
      "Battle of Waterloo 1815.PNG\n",
      "Uk topo en.jpg\n",
      "BenNevis2005.jpg\n",
      "Population density UK 2011 census.png\n",
      "2019 Greenwich Peninsula & Canary Wharf.jpg\n",
      "Birmingham Skyline from Edgbaston Cricket Ground crop.jpg\n",
      "Leeds CBD at night.jpg\n",
      "Glasgow and the Clyde from the air (geograph 4665720).jpg\n",
      "Palace of Westminster, London - Feb 2007.jpg\n",
      "Scotland Parliament Holyrood.jpg\n",
      "Donald Trump and Theresa May (33998675310) (cropped).jpg\n",
      "Soldiers Trooping the Colour, 16th June 2007.jpg\n",
      "City of London skyline from London City Hall - Oct 2008.jpg\n",
      "Oil platform in the North SeaPros.jpg\n",
      "Eurostar at St Pancras Jan 2008.jpg\n",
      "Heathrow Terminal 5C Iwelumo-1.jpg\n",
      "Airbus A380-841 G-XLEB British Airways (10424102995).jpg\n",
      "UKpop.svg\n",
      "Anglospeak.svg\n",
      "Royal Aberdeen Children's Hospital.jpg\n",
      "CHANDOS3.jpg\n",
      "The Fabs.JPG\n",
      "Wembley Stadium, illuminated.jpg\n",
      "28\n"
     ]
    }
   ],
   "source": [
    "pattern_media = re.compile(r'\\[\\[ファイル:(?:.+?)(?:\\|.*?(?:\\[\\[.*?\\]\\].*?)*?)*?\\]\\]')\n",
    "cnt = 0\n",
    "output_example = True\n",
    "for line in txt_clean_line_generator(file_path='data/jawiki-country-uk.txt'):\n",
    "    for match in pattern_media.finditer(line):\n",
    "        if output_example:\n",
    "            print('==== example ====')\n",
    "            print(match.group(0))\n",
    "            print('==== example ====')\n",
    "            output_example = False\n",
    "        file_span_txt = match.group(0)\n",
    "        file_path = file_span_txt[7:-2].split('|')[0]\n",
    "        print(file_path)\n",
    "        cnt += 1\n",
    "print(cnt)"
   ]
  },
  {
   "attachments": {},
   "cell_type": "markdown",
   "metadata": {},
   "source": [
    "## 25.テンプレートの抽出\n",
    "記事中に含まれる「基礎情報」テンプレートのフィールド名と値を抽出し，辞書オブジェクトとして格納せよ．  \n",
    "`{{テンプレート名|テンプレート変数1=引数1|テンプレート変数2=引数2|.....}}`\n",
    "\n",
    "[Template:基礎情報 国](https://ja.wikipedia.org/wiki/Template:%E5%9F%BA%E7%A4%8E%E6%83%85%E5%A0%B1_%E5%9B%BD)\n",
    "```\n",
    "{{基礎情報 国\n",
    "|自治領等 = \n",
    "|略名 = \n",
    "|日本語国名 = \n",
    "（略）\n",
    "|注記 = \n",
    "}}\n",
    "```"
   ]
  },
  {
   "attachments": {},
   "cell_type": "markdown",
   "metadata": {},
   "source": [
    "### とりあえず中身を見てみる。"
   ]
  },
  {
   "cell_type": "code",
   "execution_count": 9,
   "metadata": {},
   "outputs": [
    {
     "name": "stdout",
     "output_type": "stream",
     "text": [
      "3 {{基礎情報 国\n",
      "4 |略名  =イギリス\n",
      "5 |日本語国名 = グレートブリテン及び北アイルランド連合王国\n",
      "6 |公式国名 = {{lang|en|United Kingdom of Great Britain and Northern Ireland}}<ref>英語以外での正式国名:<br />\n",
      "7 *{{lang|gd|An Rìoghachd Aonaichte na Breatainn Mhòr agus Eirinn mu Thuath}}（[[スコットランド・ゲール語]]）\n",
      "8 *{{lang|cy|Teyrnas Gyfunol Prydain Fawr a Gogledd Iwerddon}}（[[ウェールズ語]]）\n",
      "9 *{{lang|ga|Ríocht Aontaithe na Breataine Móire agus Tuaisceart na hÉireann}}（[[アイルランド語]]）\n",
      "10 *{{lang|kw|An Rywvaneth Unys a Vreten Veur hag Iwerdhon Glédh}}（[[コーンウォール語]]）\n",
      "11 *{{lang|sco|Unitit Kinrick o Great Breetain an Northren Ireland}}（[[スコットランド語]]）\n",
      "12 **{{lang|sco|Claught Kängrick o Docht Brätain an Norlin Airlann}}、{{lang|sco|Unitet Kängdom o Great Brittain an Norlin Airlann}}（アルスター・スコットランド語）</ref>\n",
      "13 |国旗画像 = Flag of the United Kingdom.svg\n",
      "14 |国章画像 = [[ファイル:Royal Coat of Arms of the United Kingdom.svg|85px|イギリスの国章]]\n",
      "15 |国章リンク =（[[イギリスの国章|国章]]）\n",
      "16 |標語 = {{lang|fr|[[Dieu et mon droit]]}}<br />（[[フランス語]]:[[Dieu et mon droit|神と我が権利]]）\n",
      "17 |国歌 = [[女王陛下万歳|{{lang|en|God Save the Queen}}]]{{en icon}}<br />''神よ女王を護り賜え''<br />{{center|[[ファイル:United States Navy Band - God Save the Queen.ogg]]}}\n",
      "18 |地図画像 = Europe-UK.svg\n",
      "19 |位置画像 = United Kingdom (+overseas territories) in the World (+Antarctica claims).svg\n",
      "20 |公用語 = [[英語]]\n",
      "21 |首都 = [[ロンドン]]（事実上）\n",
      "22 |最大都市 = ロンドン\n",
      "23 |元首等肩書 = [[イギリスの君主|女王]]\n",
      "24 |元首等氏名 = [[エリザベス2世]]\n",
      "25 |首相等肩書 = [[イギリスの首相|首相]]\n",
      "26 |首相等氏名 = [[ボリス・ジョンソン]]\n",
      "27 |他元首等肩書1 = [[貴族院 (イギリス)|貴族院議長]]\n",
      "28 |他元首等氏名1 = [[:en:Norman Fowler, Baron Fowler|ノーマン・ファウラー]]\n",
      "29 |他元首等肩書2 = [[庶民院 (イギリス)|庶民院議長]]\n",
      "30 |他元首等氏名2 = {{仮リンク|リンゼイ・ホイル|en|Lindsay Hoyle}}\n",
      "31 |他元首等肩書3 = [[連合王国最高裁判所|最高裁判所長官]]\n",
      "32 |他元首等氏名3 = [[:en:Brenda Hale, Baroness Hale of Richmond|ブレンダ・ヘイル]]\n",
      "33 |面積順位 = 76\n",
      "34 |面積大きさ = 1 E11\n",
      "35 |面積値 = 244,820\n",
      "36 |水面積率 = 1.3%\n",
      "37 |人口統計年 = 2018\n",
      "38 |人口順位 = 22\n",
      "39 |人口大きさ = 1 E7\n",
      "40 |人口値 = 6643万5600<ref>{{Cite web|url=https://www.ons.gov.uk/peoplepopulationandcommunity/populationandmigration/populationestimates|title=Population estimates - Office for National Statistics|accessdate=2019-06-26|date=2019-06-26}}</ref>\n",
      "41 |人口密度値 = 271\n",
      "42 |GDP統計年元 = 2012\n",
      "43 |GDP値元 = 1兆5478億<ref name=\"imf-statistics-gdp\">[http://www.imf.org/external/pubs/ft/weo/2012/02/weodata/weorept.aspx?pr.x=70&pr.y=13&sy=2010&ey=2012&scsm=1&ssd=1&sort=country&ds=.&br=1&c=112&s=NGDP%2CNGDPD%2CPPPGDP%2CPPPPC&grp=0&a=IMF>Data and Statistics>World Economic Outlook Databases>By Countrise>United Kingdom]</ref>\n",
      "44 |GDP統計年MER = 2012\n",
      "45 |GDP順位MER = 6\n",
      "46 |GDP値MER = 2兆4337億<ref name=\"imf-statistics-gdp\" />\n",
      "47 |GDP統計年 = 2012\n",
      "48 |GDP順位 = 6\n",
      "49 |GDP値 = 2兆3162億<ref name=\"imf-statistics-gdp\" />\n",
      "50 |GDP/人 = 36,727<ref name=\"imf-statistics-gdp\" />\n",
      "51 |建国形態 = 建国\n",
      "52 |確立形態1 = [[イングランド王国]]／[[スコットランド王国]]<br />（両国とも[[合同法 (1707年)|1707年合同法]]まで）\n",
      "53 |確立年月日1 = 927年／843年\n",
      "54 |確立形態2 = [[グレートブリテン王国]]成立<br />（1707年合同法）\n",
      "55 |確立年月日2 = 1707年{{0}}5月{{0}}1日\n",
      "56 |確立形態3 = [[グレートブリテン及びアイルランド連合王国]]成立<br />（[[合同法 (1800年)|1800年合同法]]）\n",
      "57 |確立年月日3 = 1801年{{0}}1月{{0}}1日\n",
      "58 |確立形態4 = 現在の国号「'''グレートブリテン及び北アイルランド連合王国'''」に変更\n",
      "59 |確立年月日4 = 1927年{{0}}4月12日\n",
      "60 |通貨 = [[スターリング・ポンド|UKポンド]] (£)\n",
      "61 |通貨コード = GBP\n",
      "62 |時間帯 = ±0\n",
      "63 |夏時間 = +1\n",
      "64 |ISO 3166-1 = GB / GBR\n",
      "65 |ccTLD = [[.uk]] / [[.gb]]<ref>使用は.ukに比べ圧倒的少数。</ref>\n",
      "66 |国際電話番号 = 44\n",
      "67 |注記 = <references/>\n",
      "68 }}\n"
     ]
    }
   ],
   "source": [
    "in_template = False\n",
    "for i, line in enumerate(txt_clean_line_generator(file_path='data/jawiki-country-uk.txt')):\n",
    "    if line.startswith('{{基礎情報'):\n",
    "        in_template = True\n",
    "        print(i, line)\n",
    "        continue\n",
    "    if line.startswith('}}'):\n",
    "        print(i, line)\n",
    "        break\n",
    "    if in_template:\n",
    "        print(i, line)"
   ]
  },
  {
   "attachments": {},
   "cell_type": "markdown",
   "metadata": {},
   "source": [
    "### どうやら一つのフィールドが複数行占めることがあるらしい。"
   ]
  },
  {
   "cell_type": "code",
   "execution_count": 10,
   "metadata": {},
   "outputs": [
    {
     "data": {
      "text/plain": [
       "{'略名': 'イギリス',\n",
       " '日本語国名': 'グレートブリテン及び北アイルランド連合王国',\n",
       " '公式国名': '{{lang|en|United Kingdom of Great Britain and Northern Ireland}}<ref>英語以外での正式国名:<br />*{{lang|gd|An Rìoghachd Aonaichte na Breatainn Mhòr agus Eirinn mu Thuath}}（[[スコットランド・ゲール語]]）*{{lang|cy|Teyrnas Gyfunol Prydain Fawr a Gogledd Iwerddon}}（[[ウェールズ語]]）*{{lang|ga|Ríocht Aontaithe na Breataine Móire agus Tuaisceart na hÉireann}}（[[アイルランド語]]）*{{lang|kw|An Rywvaneth Unys a Vreten Veur hag Iwerdhon Glédh}}（[[コーンウォール語]]）*{{lang|sco|Unitit Kinrick o Great Breetain an Northren Ireland}}（[[スコットランド語]]）**{{lang|sco|Claught Kängrick o Docht Brätain an Norlin Airlann}}、{{lang|sco|Unitet Kängdom o Great Brittain an Norlin Airlann}}（アルスター・スコットランド語）</ref>',\n",
       " '国旗画像': 'Flag of the United Kingdom.svg',\n",
       " '国章画像': '[[ファイル:Royal Coat of Arms of the United Kingdom.svg|85px|イギリスの国章]]',\n",
       " '国章リンク': '（[[イギリスの国章|国章]]）',\n",
       " '標語': '{{lang|fr|[[Dieu et mon droit]]}}<br />（[[フランス語]]:[[Dieu et mon droit|神と我が権利]]）',\n",
       " '国歌': \"[[女王陛下万歳|{{lang|en|God Save the Queen}}]]{{en icon}}<br />''神よ女王を護り賜え''<br />{{center|[[ファイル:United States Navy Band - God Save the Queen.ogg]]}}\",\n",
       " '地図画像': 'Europe-UK.svg',\n",
       " '位置画像': 'United Kingdom (+overseas territories) in the World (+Antarctica claims).svg',\n",
       " '公用語': '[[英語]]',\n",
       " '首都': '[[ロンドン]]（事実上）',\n",
       " '最大都市': 'ロンドン',\n",
       " '元首等肩書': '[[イギリスの君主|女王]]',\n",
       " '元首等氏名': '[[エリザベス2世]]',\n",
       " '首相等肩書': '[[イギリスの首相|首相]]',\n",
       " '首相等氏名': '[[ボリス・ジョンソン]]',\n",
       " '他元首等肩書1': '[[貴族院 (イギリス)|貴族院議長]]',\n",
       " '他元首等氏名1': '[[:en:Norman Fowler, Baron Fowler|ノーマン・ファウラー]]',\n",
       " '他元首等肩書2': '[[庶民院 (イギリス)|庶民院議長]]',\n",
       " '他元首等氏名2': '{{仮リンク|リンゼイ・ホイル|en|Lindsay Hoyle}}',\n",
       " '他元首等肩書3': '[[連合王国最高裁判所|最高裁判所長官]]',\n",
       " '他元首等氏名3': '[[:en:Brenda Hale, Baroness Hale of Richmond|ブレンダ・ヘイル]]',\n",
       " '面積順位': '76',\n",
       " '面積大きさ': '1 E11',\n",
       " '面積値': '244,820',\n",
       " '水面積率': '1.3%',\n",
       " '人口統計年': '2018',\n",
       " '人口順位': '22',\n",
       " '人口大きさ': '1 E7',\n",
       " '人口値': '6643万5600<ref>{{Cite web|url=https://www.ons.gov.uk/peoplepopulationandcommunity/populationandmigration/populationestimates|title=Population estimates - Office for National Statistics|accessdate=2019-06-26|date=2019-06-26}}</ref>',\n",
       " '人口密度値': '271',\n",
       " 'GDP統計年元': '2012',\n",
       " 'GDP値元': '1兆5478億<ref name=\"imf-statistics-gdp\">[http://www.imf.org/external/pubs/ft/weo/2012/02/weodata/weorept.aspx?pr.x=70&pr.y=13&sy=2010&ey=2012&scsm=1&ssd=1&sort=country&ds=.&br=1&c=112&s=NGDP%2CNGDPD%2CPPPGDP%2CPPPPC&grp=0&a=IMF>Data and Statistics>World Economic Outlook Databases>By Countrise>United Kingdom]</ref>',\n",
       " 'GDP統計年MER': '2012',\n",
       " 'GDP順位MER': '6',\n",
       " 'GDP値MER': '2兆4337億<ref name=\"imf-statistics-gdp\" />',\n",
       " 'GDP統計年': '2012',\n",
       " 'GDP順位': '6',\n",
       " 'GDP値': '2兆3162億<ref name=\"imf-statistics-gdp\" />',\n",
       " 'GDP/人': '36,727<ref name=\"imf-statistics-gdp\" />',\n",
       " '建国形態': '建国',\n",
       " '確立形態1': '[[イングランド王国]]／[[スコットランド王国]]<br />（両国とも[[合同法 (1707年)|1707年合同法]]まで）',\n",
       " '確立年月日1': '927年／843年',\n",
       " '確立形態2': '[[グレートブリテン王国]]成立<br />（1707年合同法）',\n",
       " '確立年月日2': '1707年{{0}}5月{{0}}1日',\n",
       " '確立形態3': '[[グレートブリテン及びアイルランド連合王国]]成立<br />（[[合同法 (1800年)|1800年合同法]]）',\n",
       " '確立年月日3': '1801年{{0}}1月{{0}}1日',\n",
       " '確立形態4': \"現在の国号「'''グレートブリテン及び北アイルランド連合王国'''」に変更\",\n",
       " '確立年月日4': '1927年{{0}}4月12日',\n",
       " '通貨': '[[スターリング・ポンド|UKポンド]] (£)',\n",
       " '通貨コード': 'GBP',\n",
       " '時間帯': '±0',\n",
       " '夏時間': '+1',\n",
       " 'ISO 3166-1': 'GB / GBR',\n",
       " 'ccTLD': '[[.uk]] / [[.gb]]<ref>使用は.ukに比べ圧倒的少数。</ref>',\n",
       " '国際電話番号': '44',\n",
       " '注記': '<references/>'}"
      ]
     },
     "execution_count": 10,
     "metadata": {},
     "output_type": "execute_result"
    }
   ],
   "source": [
    "import pprint\n",
    "\n",
    "def get_field_lines():\n",
    "    in_template = False\n",
    "    field_lines = []\n",
    "\n",
    "    for line in txt_clean_line_generator(file_path='data/jawiki-country-uk.txt'):\n",
    "        if line.startswith('{{基礎情報'):\n",
    "            in_template = True\n",
    "            continue\n",
    "        if line.startswith('}}'):\n",
    "            break\n",
    "        if in_template:\n",
    "            if line.startswith('|'):\n",
    "                field_lines.append(line)\n",
    "            else:\n",
    "                field_lines[-1] += line\n",
    "    return field_lines\n",
    "    \n",
    "def extract_field_and_value(*, line: str, compiled_pattern) -> dict:\n",
    "    match = compiled_pattern.match(line)\n",
    "    return {match.group(1): match.group(2)}\n",
    "\n",
    "def create_info_dict(*, field_lines: list) -> dict:\n",
    "    info_dict = {}\n",
    "    field_value_pattern = re.compile(r'^\\|(.+?)\\s*=\\s*(.+)$')\n",
    "    for field_line in field_lines:\n",
    "        # python 3.9 以降\n",
    "        info_dict |= extract_field_and_value(line=field_line, compiled_pattern=field_value_pattern)\n",
    "        # python 3.9 以前\n",
    "        # info_dict.update(extract_field_and_value(line=field_line, compiled_pattern=field_value_pattern))\n",
    "    return info_dict\n",
    "\n",
    "def p25():\n",
    "    field_lines = get_field_lines()\n",
    "    basic_info_dict = create_info_dict(field_lines=field_lines)\n",
    "    return basic_info_dict\n",
    "\n",
    "p25()"
   ]
  },
  {
   "attachments": {
    "image.png": {
     "image/png": "[encoded data removed]"
    }
   },
   "cell_type": "markdown",
   "metadata": {},
   "source": [
    "### 26.強調マークアップの除去\n",
    "25の処理時に，テンプレートの値からMediaWikiの強調マークアップ（弱い強調，強調，強い強調のすべて）を除去してテキストに変換せよ（参考: マークアップ早見表）．　\n",
    "\n",
    "弱い強調 = 斜線 `''他との区別''`  \n",
    "強調 = 太字 `'''強調'''`   \n",
    "強い強調 = 太字斜線 `\t'''''斜体と強調'''''`\n",
    "\n",
    "\n",
    "強調：  \n",
    "![image.png](attachment:image.png)\n"
   ]
  },
  {
   "cell_type": "code",
   "execution_count": 11,
   "metadata": {},
   "outputs": [
    {
     "name": "stdout",
     "output_type": "stream",
     "text": [
      "++++++++++++++++++++++++++++++\n",
      "[[女王陛下万歳|{{lang|en|God Save the Queen}}]]{{en icon}}<br />''神よ女王を護り賜え''<br />{{center|[[ファイル:United States Navy Band - God Save the Queen.ogg]]}}\n",
      "現在の国号「'''グレートブリテン及び北アイルランド連合王国'''」に変更\n",
      "++++++++++++++++++++++++++++++\n",
      "[[女王陛下万歳|{{lang|en|God Save the Queen}}]]{{en icon}}<br />神よ女王を護り賜え<br />{{center|[[ファイル:United States Navy Band - God Save the Queen.ogg]]}}\n",
      "現在の国号「グレートブリテン及び北アイルランド連合王国」に変更\n"
     ]
    }
   ],
   "source": [
    "def remove_emphasis(info_dict: dict) -> dict:\n",
    "    # クオーテーション4回のパターンがなかったので一応それぞれ定義。\n",
    "    italic_bold_pattern = re.compile(r\"\\'{5}([^\\'].+?[^\\'])\\'{5}\")\n",
    "    bold_pattern = re.compile(r\"\\'{3}([^\\'].+?[^\\'])\\'{3}\")\n",
    "    italic_pattern = re.compile(r\"\\'{2}([^\\'].+?[^\\'])\\'{2}\")\n",
    "\n",
    "    # sub() はヒットした部分を置換してくれる`\n",
    "    for key, value in info_dict.items():\n",
    "        value = italic_bold_pattern.sub(r'\\1', value)\n",
    "        value = bold_pattern.sub(r'\\1', value)\n",
    "        value = italic_pattern.sub(r'\\1', value)\n",
    "        info_dict[key] = value\n",
    "    return info_dict\n",
    "\n",
    "def remove_markup(info_dict: dict) -> dict:\n",
    "    info_dict = remove_emphasis(info_dict)\n",
    "    return info_dict\n",
    "\n",
    "def p26():\n",
    "    field_lines = get_field_lines()\n",
    "    basic_info_dict = create_info_dict(field_lines=field_lines)\n",
    "    print('++++++++++++++++++++++++++++++')\n",
    "    print(basic_info_dict['国歌'])\n",
    "    print(basic_info_dict['確立形態4'])\n",
    "    basic_info_dict = remove_markup(info_dict=basic_info_dict)\n",
    "    # pprint.pprint(basic_info_dict)\n",
    "    print('++++++++++++++++++++++++++++++')\n",
    "    print(basic_info_dict['国歌'])\n",
    "    print(basic_info_dict['確立形態4'])\n",
    "    # return basic_info_dict\n",
    "\n",
    "\n",
    "p26()\n",
    "\n"
   ]
  },
  {
   "attachments": {},
   "cell_type": "markdown",
   "metadata": {},
   "source": [
    "## 27.内部リンクの除去\n",
    "26の処理に加えて，テンプレートの値からMediaWikiの内部リンクマークアップを除去し，テキストに変換せよ（参考: マークアップ早見表）．\n",
    "\n",
    "`[[記事名]]`  \n",
    "`[[記事名|表示文字]]`  \n",
    "`[[記事名#節名|表示文字]]`  \n",
    "\n",
    "\n",
    "ただしファイルの表記はのぞかなければならない"
   ]
  },
  {
   "cell_type": "code",
   "execution_count": 12,
   "metadata": {},
   "outputs": [
    {
     "name": "stdout",
     "output_type": "stream",
     "text": [
      "++++++++++++++++++++++++++++++\n",
      "[[イングランド王国]]／[[スコットランド王国]]<br />（両国とも[[合同法 (1707年)|1707年合同法]]まで）\n",
      "[[ファイル:Royal Coat of Arms of the United Kingdom.svg|85px|イギリスの国章]]\n",
      "[[女王陛下万歳|{{lang|en|God Save the Queen}}]]{{en icon}}<br />''神よ女王を護り賜え''<br />{{center|[[ファイル:United States Navy Band - God Save the Queen.ogg]]}}\n",
      "++++++++++++++++++++++++++++++\n",
      "イングランド王国／スコットランド王国<br />（両国とも1707年合同法まで）\n",
      "[[ファイル:Royal Coat of Arms of the United Kingdom.svg|85px|イギリスの国章]]\n",
      "{{lang|en|God Save the Queen}}{{en icon}}<br />神よ女王を護り賜え<br />{{center|[[ファイル:United States Navy Band - God Save the Queen.ogg]]}}\n",
      "++++++++++++++++++++++++++++++\n"
     ]
    },
    {
     "data": {
      "text/plain": [
       "{'略名': 'イギリス',\n",
       " '日本語国名': 'グレートブリテン及び北アイルランド連合王国',\n",
       " '公式国名': '{{lang|en|United Kingdom of Great Britain and Northern Ireland}}<ref>英語以外での正式国名:<br />*{{lang|gd|An Rìoghachd Aonaichte na Breatainn Mhòr agus Eirinn mu Thuath}}（スコットランド・ゲール語）*{{lang|cy|Teyrnas Gyfunol Prydain Fawr a Gogledd Iwerddon}}（ウェールズ語）*{{lang|ga|Ríocht Aontaithe na Breataine Móire agus Tuaisceart na hÉireann}}（アイルランド語）*{{lang|kw|An Rywvaneth Unys a Vreten Veur hag Iwerdhon Glédh}}（コーンウォール語）*{{lang|sco|Unitit Kinrick o Great Breetain an Northren Ireland}}（スコットランド語）**{{lang|sco|Claught Kängrick o Docht Brätain an Norlin Airlann}}、{{lang|sco|Unitet Kängdom o Great Brittain an Norlin Airlann}}（アルスター・スコットランド語）</ref>',\n",
       " '国旗画像': 'Flag of the United Kingdom.svg',\n",
       " '国章画像': '[[ファイル:Royal Coat of Arms of the United Kingdom.svg|85px|イギリスの国章]]',\n",
       " '国章リンク': '（国章）',\n",
       " '標語': '{{lang|fr|Dieu et mon droit}}<br />（フランス語:神と我が権利）',\n",
       " '国歌': '{{lang|en|God Save the Queen}}{{en icon}}<br />神よ女王を護り賜え<br />{{center|[[ファイル:United States Navy Band - God Save the Queen.ogg]]}}',\n",
       " '地図画像': 'Europe-UK.svg',\n",
       " '位置画像': 'United Kingdom (+overseas territories) in the World (+Antarctica claims).svg',\n",
       " '公用語': '英語',\n",
       " '首都': 'ロンドン（事実上）',\n",
       " '最大都市': 'ロンドン',\n",
       " '元首等肩書': '女王',\n",
       " '元首等氏名': 'エリザベス2世',\n",
       " '首相等肩書': '首相',\n",
       " '首相等氏名': 'ボリス・ジョンソン',\n",
       " '他元首等肩書1': '貴族院議長',\n",
       " '他元首等氏名1': 'ノーマン・ファウラー',\n",
       " '他元首等肩書2': '庶民院議長',\n",
       " '他元首等氏名2': '{{仮リンク|リンゼイ・ホイル|en|Lindsay Hoyle}}',\n",
       " '他元首等肩書3': '最高裁判所長官',\n",
       " '他元首等氏名3': 'ブレンダ・ヘイル',\n",
       " '面積順位': '76',\n",
       " '面積大きさ': '1 E11',\n",
       " '面積値': '244,820',\n",
       " '水面積率': '1.3%',\n",
       " '人口統計年': '2018',\n",
       " '人口順位': '22',\n",
       " '人口大きさ': '1 E7',\n",
       " '人口値': '6643万5600<ref>{{Cite web|url=https://www.ons.gov.uk/peoplepopulationandcommunity/populationandmigration/populationestimates|title=Population estimates - Office for National Statistics|accessdate=2019-06-26|date=2019-06-26}}</ref>',\n",
       " '人口密度値': '271',\n",
       " 'GDP統計年元': '2012',\n",
       " 'GDP値元': '1兆5478億<ref name=\"imf-statistics-gdp\">[http://www.imf.org/external/pubs/ft/weo/2012/02/weodata/weorept.aspx?pr.x=70&pr.y=13&sy=2010&ey=2012&scsm=1&ssd=1&sort=country&ds=.&br=1&c=112&s=NGDP%2CNGDPD%2CPPPGDP%2CPPPPC&grp=0&a=IMF>Data and Statistics>World Economic Outlook Databases>By Countrise>United Kingdom]</ref>',\n",
       " 'GDP統計年MER': '2012',\n",
       " 'GDP順位MER': '6',\n",
       " 'GDP値MER': '2兆4337億<ref name=\"imf-statistics-gdp\" />',\n",
       " 'GDP統計年': '2012',\n",
       " 'GDP順位': '6',\n",
       " 'GDP値': '2兆3162億<ref name=\"imf-statistics-gdp\" />',\n",
       " 'GDP/人': '36,727<ref name=\"imf-statistics-gdp\" />',\n",
       " '建国形態': '建国',\n",
       " '確立形態1': 'イングランド王国／スコットランド王国<br />（両国とも1707年合同法まで）',\n",
       " '確立年月日1': '927年／843年',\n",
       " '確立形態2': 'グレートブリテン王国成立<br />（1707年合同法）',\n",
       " '確立年月日2': '1707年{{0}}5月{{0}}1日',\n",
       " '確立形態3': 'グレートブリテン及びアイルランド連合王国成立<br />（1800年合同法）',\n",
       " '確立年月日3': '1801年{{0}}1月{{0}}1日',\n",
       " '確立形態4': '現在の国号「グレートブリテン及び北アイルランド連合王国」に変更',\n",
       " '確立年月日4': '1927年{{0}}4月12日',\n",
       " '通貨': 'UKポンド (£)',\n",
       " '通貨コード': 'GBP',\n",
       " '時間帯': '±0',\n",
       " '夏時間': '+1',\n",
       " 'ISO 3166-1': 'GB / GBR',\n",
       " 'ccTLD': '.uk / .gb<ref>使用は.ukに比べ圧倒的少数。</ref>',\n",
       " '国際電話番号': '44',\n",
       " '注記': '<references/>'}"
      ]
     },
     "execution_count": 12,
     "metadata": {},
     "output_type": "execute_result"
    }
   ],
   "source": [
    "def remove_internal_links(info_dict: dict) -> dict:\n",
    "    \n",
    "    internal_link_pattern1 = re.compile(r'\\[\\[(?!ファイル:)([^|]+?)\\]\\]')   # [[記事名]]\n",
    "    internal_link_pattern2 = re.compile(r'\\[\\[(?!ファイル:)[^|]+?[|](.+?)\\]\\]') # [[記事名|表示文字]]\n",
    "\n",
    "    for key, value in info_dict.items():\n",
    "        value = internal_link_pattern1.sub(r'\\1', value)\n",
    "        value = internal_link_pattern2.sub(r'\\1', value)\n",
    "        info_dict[key] = value\n",
    "\n",
    "    return info_dict\n",
    "\n",
    "def remove_markup(info_dict: dict) -> dict:\n",
    "    info_dict = remove_emphasis(info_dict)\n",
    "    info_dict = remove_internal_links(info_dict)\n",
    "    return info_dict\n",
    "\n",
    "def p27():\n",
    "    field_lines = get_field_lines()\n",
    "    basic_info_dict = create_info_dict(field_lines=field_lines)\n",
    "    print('++++++++++++++++++++++++++++++')\n",
    "    print(basic_info_dict['確立形態1'])\n",
    "    print(basic_info_dict['国章画像'])\n",
    "    print(basic_info_dict['国歌'])\n",
    "    basic_info_dict = remove_markup(info_dict=basic_info_dict)\n",
    "    # pprint.pprint(basic_info_dict)\n",
    "    print('++++++++++++++++++++++++++++++')\n",
    "    print(basic_info_dict['確立形態1'])\n",
    "    print(basic_info_dict['国章画像'])\n",
    "    print(basic_info_dict['国歌'])\n",
    "    print('++++++++++++++++++++++++++++++')\n",
    "    return basic_info_dict\n",
    "\n",
    "\n",
    "p27()\n"
   ]
  },
  {
   "attachments": {},
   "cell_type": "markdown",
   "metadata": {},
   "source": [
    "## 28.MediaWikiマークアップの除去\n",
    "27の処理に加えて，テンプレートの値からMediaWikiマークアップを可能な限り除去し，国の基本情報を整形せよ．  \n",
    "要するに、その他の記法も直しちゃいたい、ということ"
   ]
  },
  {
   "cell_type": "code",
   "execution_count": 13,
   "metadata": {},
   "outputs": [
    {
     "data": {
      "text/plain": [
       "{'略名': 'イギリス',\n",
       " '日本語国名': 'グレートブリテン及び北アイルランド連合王国',\n",
       " '公式国名': 'United Kingdom of Great Britain and Northern Ireland',\n",
       " '国旗画像': 'Flag of the United Kingdom.svg',\n",
       " '国章画像': 'イギリスの国章',\n",
       " '国章リンク': '（国章）',\n",
       " '標語': 'Dieu et mon droit（フランス語:神と我が権利）',\n",
       " '国歌': 'God Save the Queen神よ女王を護り賜え',\n",
       " '地図画像': 'Europe-UK.svg',\n",
       " '位置画像': 'United Kingdom (+overseas territories) in the World (+Antarctica claims).svg',\n",
       " '公用語': '英語',\n",
       " '首都': 'ロンドン（事実上）',\n",
       " '最大都市': 'ロンドン',\n",
       " '元首等肩書': '女王',\n",
       " '元首等氏名': 'エリザベス2世',\n",
       " '首相等肩書': '首相',\n",
       " '首相等氏名': 'ボリス・ジョンソン',\n",
       " '他元首等肩書1': '貴族院議長',\n",
       " '他元首等氏名1': 'ノーマン・ファウラー',\n",
       " '他元首等肩書2': '庶民院議長',\n",
       " '他元首等氏名2': 'リンゼイ・ホイル',\n",
       " '他元首等肩書3': '最高裁判所長官',\n",
       " '他元首等氏名3': 'ブレンダ・ヘイル',\n",
       " '面積順位': '76',\n",
       " '面積大きさ': '1 E11',\n",
       " '面積値': '244,820',\n",
       " '水面積率': '1.3%',\n",
       " '人口統計年': '2018',\n",
       " '人口順位': '22',\n",
       " '人口大きさ': '1 E7',\n",
       " '人口値': '6643万5600',\n",
       " '人口密度値': '271',\n",
       " 'GDP統計年元': '2012',\n",
       " 'GDP値元': '1兆5478億',\n",
       " 'GDP統計年MER': '2012',\n",
       " 'GDP順位MER': '6',\n",
       " 'GDP値MER': '2兆4337億',\n",
       " 'GDP統計年': '2012',\n",
       " 'GDP順位': '6',\n",
       " 'GDP値': '2兆3162億',\n",
       " 'GDP/人': '36,727',\n",
       " '建国形態': '建国',\n",
       " '確立形態1': 'イングランド王国／スコットランド王国（両国とも1707年合同法まで）',\n",
       " '確立年月日1': '927年／843年',\n",
       " '確立形態2': 'グレートブリテン王国成立（1707年合同法）',\n",
       " '確立年月日2': '1707年5月1日',\n",
       " '確立形態3': 'グレートブリテン及びアイルランド連合王国成立（1800年合同法）',\n",
       " '確立年月日3': '1801年1月1日',\n",
       " '確立形態4': '現在の国号「グレートブリテン及び北アイルランド連合王国」に変更',\n",
       " '確立年月日4': '1927年4月12日',\n",
       " '通貨': 'UKポンド (£)',\n",
       " '通貨コード': 'GBP',\n",
       " '時間帯': '±0',\n",
       " '夏時間': '+1',\n",
       " 'ISO 3166-1': 'GB / GBR',\n",
       " 'ccTLD': '.uk / .gb',\n",
       " '国際電話番号': '44',\n",
       " '注記': ''}"
      ]
     },
     "execution_count": 13,
     "metadata": {},
     "output_type": "execute_result"
    }
   ],
   "source": [
    "def remove_file(info_dict: dict) -> dict:\n",
    "    file_pattern = re.compile(r'\\[\\[ファイル:(?:.+?)(?:\\|.*?(?:\\[\\[.*?\\]\\].*?)*?)*?\\]\\]')\n",
    "    for key, value in info_dict.items():\n",
    "        for match in file_pattern.finditer(value):\n",
    "            # 縦棒で区切られた文字列のうち、最後のものを取得する\n",
    "            file_span_txt = match.group(0)\n",
    "            split = file_span_txt[7:-2].split('|')\n",
    "            if len(split) > 1:\n",
    "                value = value.replace(file_span_txt, split[-1])\n",
    "            else:\n",
    "                value = value.replace(file_span_txt, '')\n",
    "        info_dict[key] = value\n",
    "    return info_dict\n",
    "\n",
    "def remove_linebreak(info_dict: dict) -> dict:\n",
    "    linebreak_pattern = re.compile(r'<br />')\n",
    "    for key, value in info_dict.items():\n",
    "        value = linebreak_pattern.sub('', value)\n",
    "        info_dict[key] = value\n",
    "    return info_dict\n",
    "\n",
    "\n",
    "def remove_ref(info_dict: dict) -> dict:\n",
    "    ref_pattern = re.compile(r'<ref(?:.+?)(?:/>|</ref>)')\n",
    "    for key, value in info_dict.items():\n",
    "        value = ref_pattern.sub('', value)\n",
    "        info_dict[key] = value\n",
    "    return info_dict\n",
    "\n",
    "def remove_lang_template(info_dict: dict) -> dict:\n",
    "    lang_template_pattern = re.compile(r'{{lang[\\|].*?[\\|](.*?)}}')\n",
    "    for key, value in info_dict.items():\n",
    "        value = lang_template_pattern.sub(r'\\1', value)\n",
    "        info_dict[key] = value\n",
    "    return info_dict\n",
    "\n",
    "def remove_lang_icon(info_dict: dict) -> dict:\n",
    "    lang_icon_pattern = re.compile(r'{{.. icon}}')\n",
    "    for key, value in info_dict.items():\n",
    "        value = lang_icon_pattern.sub('', value)\n",
    "        info_dict[key] = value\n",
    "    return info_dict\n",
    "\n",
    "def remove_hidden_zero(info_dict: dict) -> dict:\n",
    "    hidden_zero_pattern = re.compile(r'{{0+}}')\n",
    "    for key, value in info_dict.items():\n",
    "        value = hidden_zero_pattern.sub('', value)\n",
    "        info_dict[key] = value\n",
    "    return info_dict\n",
    "\n",
    "def remove_align_center(info_dict: dict) -> dict:\n",
    "    align_center_pattern = re.compile(r'{{center[\\|](.*?)}}')\n",
    "    for key, value in info_dict.items():\n",
    "        value = align_center_pattern.sub(r'\\1', value)\n",
    "        info_dict[key] = value\n",
    "    return info_dict\n",
    "\n",
    "def remove_virtual_link(info_dict: dict) -> dict:\n",
    "    virtual_link_pattern = re.compile(r'{{仮リンク[\\|](.*?)[\\|].*?}}')\n",
    "    for key, value in info_dict.items():\n",
    "        value = virtual_link_pattern.sub(r'\\1', value)\n",
    "        info_dict[key] = value\n",
    "    return info_dict\n",
    "\n",
    "\n",
    "def remove_markup(info_dict: dict) -> dict:\n",
    "    info_dict = remove_emphasis(info_dict)\n",
    "    info_dict = remove_internal_links(info_dict)\n",
    "    info_dict = remove_file(info_dict)\n",
    "    info_dict = remove_linebreak(info_dict)\n",
    "    info_dict = remove_ref(info_dict)\n",
    "    info_dict = remove_lang_template(info_dict)\n",
    "    info_dict = remove_lang_icon(info_dict)\n",
    "    info_dict = remove_hidden_zero(info_dict)\n",
    "    info_dict = remove_align_center(info_dict)\n",
    "    info_dict = remove_virtual_link(info_dict)  \n",
    "    \n",
    "    return info_dict\n",
    "\n",
    "def p28():\n",
    "    field_lines = get_field_lines()\n",
    "    basic_info_dict = create_info_dict(field_lines=field_lines)\n",
    "    basic_info_dict = remove_markup(info_dict=basic_info_dict)\n",
    "    return basic_info_dict\n",
    "\n",
    "\n",
    "basic_info_dict = p28()\n",
    "basic_info_dict"
   ]
  },
  {
   "attachments": {},
   "cell_type": "markdown",
   "metadata": {},
   "source": [
    "## 29.国旗画像のURLを取得する\n",
    "テンプレートの内容を利用し，国旗画像のURLを取得せよ．（ヒント: [MediaWiki API](http://www.mediawiki.org/wiki/API:Main_page/ja)の[imageinfo](https://www.mediawiki.org/wiki/API:Imageinfo)を呼び出して，ファイル参照をURLに変換すればよい）"
   ]
  },
  {
   "cell_type": "code",
   "execution_count": 14,
   "metadata": {},
   "outputs": [
    {
     "name": "stdout",
     "output_type": "stream",
     "text": [
      "Requirement already satisfied: requests in /Users/gokamoda/Library/CloudStorage/OneDrive-国立大学法人東北大学/Documents/work/UT/S9研究室/100knock-matome/.venv/lib/python3.9/site-packages (2.28.2)\n",
      "Requirement already satisfied: urllib3<1.27,>=1.21.1 in /Users/gokamoda/Library/CloudStorage/OneDrive-国立大学法人東北大学/Documents/work/UT/S9研究室/100knock-matome/.venv/lib/python3.9/site-packages (from requests) (1.26.15)\n",
      "Requirement already satisfied: certifi>=2017.4.17 in /Users/gokamoda/Library/CloudStorage/OneDrive-国立大学法人東北大学/Documents/work/UT/S9研究室/100knock-matome/.venv/lib/python3.9/site-packages (from requests) (2022.12.7)\n",
      "Requirement already satisfied: idna<4,>=2.5 in /Users/gokamoda/Library/CloudStorage/OneDrive-国立大学法人東北大学/Documents/work/UT/S9研究室/100knock-matome/.venv/lib/python3.9/site-packages (from requests) (3.4)\n",
      "Requirement already satisfied: charset-normalizer<4,>=2 in /Users/gokamoda/Library/CloudStorage/OneDrive-国立大学法人東北大学/Documents/work/UT/S9研究室/100knock-matome/.venv/lib/python3.9/site-packages (from requests) (3.1.0)\n",
      "\n",
      "\u001b[1m[\u001b[0m\u001b[34;49mnotice\u001b[0m\u001b[1;39;49m]\u001b[0m\u001b[39;49m A new release of pip is available: \u001b[0m\u001b[31;49m23.0.1\u001b[0m\u001b[39;49m -> \u001b[0m\u001b[32;49m23.1\u001b[0m\n",
      "\u001b[1m[\u001b[0m\u001b[34;49mnotice\u001b[0m\u001b[1;39;49m]\u001b[0m\u001b[39;49m To update, run: \u001b[0m\u001b[32;49mpip install --upgrade pip\u001b[0m\n"
     ]
    }
   ],
   "source": [
    "! pip install requests"
   ]
  },
  {
   "cell_type": "code",
   "execution_count": 15,
   "metadata": {},
   "outputs": [
    {
     "name": "stdout",
     "output_type": "stream",
     "text": [
      "<class 'dict'>\n",
      "{'23473560': {'pageid': 23473560, 'ns': 6, 'title': 'File:Flag of the United Kingdom.svg', 'imagerepository': 'local', 'imageinfo': [{'url': 'https://upload.wikimedia.org/wikipedia/en/a/ae/Flag_of_the_United_Kingdom.svg', 'descriptionurl': 'https://en.wikipedia.org/wiki/File:Flag_of_the_United_Kingdom.svg', 'descriptionshorturl': 'https://en.wikipedia.org/w/index.php?curid=23473560'}]}}\n"
     ]
    }
   ],
   "source": [
    "import requests\n",
    "\n",
    "S = requests.Session()\n",
    "\n",
    "URL = \"https://en.wikipedia.org/w/api.php\"\n",
    "\n",
    "PARAMS = {\n",
    "    \"action\": \"query\",\n",
    "    \"format\": \"json\",\n",
    "    \"prop\": \"imageinfo\",\n",
    "    \"titles\": \"File:\"+ basic_info_dict['国旗画像'],\n",
    "    \"iiprop\": \"url\" # これしないとURLが取れない\n",
    "}\n",
    "\n",
    "R = S.get(url=URL, params=PARAMS)\n",
    "DATA = R.json()\n",
    "PAGES = DATA[\"query\"][\"pages\"]\n",
    "print(type(PAGES))  \n",
    "print(PAGES)\n"
   ]
  },
  {
   "cell_type": "code",
   "execution_count": 16,
   "metadata": {},
   "outputs": [
    {
     "name": "stdout",
     "output_type": "stream",
     "text": [
      "https://upload.wikimedia.org/wikipedia/en/a/ae/Flag_of_the_United_Kingdom.svg\n"
     ]
    }
   ],
   "source": [
    "for k, v in PAGES.items():\n",
    "    url = v['imageinfo'][0]['url']\n",
    "    break\n",
    "print(url)"
   ]
  },
  {
   "cell_type": "code",
   "execution_count": 17,
   "metadata": {},
   "outputs": [
    {
     "data": {
      "image/svg+xml": [
       "<svg xmlns=\"http://www.w3.org/2000/svg\" viewBox=\"0 0 60 30\" width=\"1200\" height=\"600\">\n",
       "<clipPath id=\"s\">\n",
       "\t<path d=\"M0,0 v30 h60 v-30 z\"/>\n",
       "</clipPath>\n",
       "<clipPath id=\"t\">\n",
       "\t<path d=\"M30,15 h30 v15 z v15 h-30 z h-30 v-15 z v-15 h30 z\"/>\n",
       "</clipPath>\n",
       "<g clip-path=\"url(#s)\">\n",
       "\t<path d=\"M0,0 v30 h60 v-30 z\" fill=\"#012169\"/>\n",
       "\t<path d=\"M0,0 L60,30 M60,0 L0,30\" stroke=\"#fff\" stroke-width=\"6\"/>\n",
       "\t<path d=\"M0,0 L60,30 M60,0 L0,30\" clip-path=\"url(#t)\" stroke=\"#C8102E\" stroke-width=\"4\"/>\n",
       "\t<path d=\"M30,0 v30 M0,15 h60\" stroke=\"#fff\" stroke-width=\"10\"/>\n",
       "\t<path d=\"M30,0 v30 M0,15 h60\" stroke=\"#C8102E\" stroke-width=\"6\"/>\n",
       "</g>\n",
       "</svg>"
      ],
      "text/plain": [
       "<IPython.core.display.SVG object>"
      ]
     },
     "metadata": {},
     "output_type": "display_data"
    }
   ],
   "source": [
    "from IPython.display import SVG, display\n",
    "\n",
    "display(SVG(url=url))"
   ]
  }
 ],
 "metadata": {
  "kernelspec": {
   "display_name": ".venv",
   "language": "python",
   "name": "python3"
  },
  "language_info": {
   "codemirror_mode": {
    "name": "ipython",
    "version": 3
   },
   "file_extension": ".py",
   "mimetype": "text/x-python",
   "name": "python",
   "nbconvert_exporter": "python",
   "pygments_lexer": "ipython3",
   "version": "3.9.15"
  },
  "orig_nbformat": 4
 },
 "nbformat": 4,
 "nbformat_minor": 2
}
